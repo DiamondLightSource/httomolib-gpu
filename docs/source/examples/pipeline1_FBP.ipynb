{
 "cells": [
  {
   "cell_type": "markdown",
   "metadata": {},
   "source": [
    "### Example 1 (FBP and Fourier)"
   ]
  },
  {
   "cell_type": "markdown",
   "metadata": {},
   "source": [
    "#### This example shows how to use methods from the HTTomolibgpy library to do the following:\n",
    "* normalise the data \n",
    "* calculate the centre of rotation using Vo Centering method\n",
    "* reconstruct using the FBP and Fourier algorithms"
   ]
  },
  {
   "cell_type": "code",
   "execution_count": null,
   "metadata": {},
   "outputs": [],
   "source": [
    "import os\n",
    "import numpy as np\n",
    "import cupy as cp\n",
    "import httomolibgpu\n",
    "import matplotlib.pyplot as plt\n",
    "from httomolibgpu.prep.normalize import normalize\n",
    "\n",
    "# Load the projection data\n",
    "path_lib = os.path.dirname(httomolibgpu.__file__)\n",
    "in_file = os.path.abspath(\n",
    "    os.path.join(path_lib, \"..\", \"tests/test_data/\", \"tomo_standard.npz\")\n",
    ")\n",
    "datafile = np.load(in_file)\n",
    "host_data = datafile[\"data\"]\n",
    "host_flats = datafile[\"flats\"]\n",
    "host_darks = datafile[\"darks\"]\n",
    "\n",
    "print(\n",
    "    \"The shape of the data is {} as (projections, detector Y, detector X)\".format(\n",
    "        np.shape(host_data)\n",
    "    )\n",
    ")\n",
    "\n",
    "print(\"Normalising the data\")\n",
    "data = cp.asarray(host_data)\n",
    "flats = cp.asarray(host_flats)\n",
    "darks = cp.asarray(host_darks)\n",
    "data_normalised = normalize(data, flats, darks, cutoff=10, minus_log=False)\n",
    "\n",
    "sliceSel = 64\n",
    "data_normalised_np = data_normalised.get()\n",
    "\n",
    "plt.figure()\n",
    "plt.subplot(131)\n",
    "plt.imshow(data_normalised_np[sliceSel, :, :])\n",
    "plt.title(\"Projection view\")\n",
    "\n",
    "plt.subplot(132)\n",
    "plt.imshow(data_normalised_np[:, sliceSel, :])\n",
    "plt.title(\"Sinogram view\")\n",
    "\n",
    "plt.subplot(133)\n",
    "plt.imshow(data_normalised_np[:, :, sliceSel])\n",
    "plt.title(\"Sagittal view\")\n",
    "plt.show()"
   ]
  },
  {
   "cell_type": "code",
   "execution_count": null,
   "metadata": {},
   "outputs": [],
   "source": [
    "from httomolibgpu.recon.rotation import find_center_vo\n",
    "\n",
    "print(\"Finding the Center of Rotation for the reconstruction\")\n",
    "cor = find_center_vo(data_normalised, ind=64)\n",
    "print(\"The found Center of Rotation is {}\".format(cor))"
   ]
  },
  {
   "cell_type": "code",
   "execution_count": null,
   "metadata": {},
   "outputs": [],
   "source": [
    "from httomolibgpu.prep.phase import paganin_filter_tomopy\n",
    "\n",
    "print(\"Applying Paganin filter\")\n",
    "phase_contrast_data = paganin_filter_tomopy(\n",
    "    data_normalised, pixel_size=0.1, dist=50, energy=53, alpha=1e-5\n",
    ")\n",
    "\n",
    "sliceSel = 64\n",
    "phase_contrast_data_np = phase_contrast_data.get()\n",
    "\n",
    "plt.figure()\n",
    "plt.subplot(131)\n",
    "plt.imshow(phase_contrast_data_np[sliceSel, :, :])\n",
    "plt.title(\"Projection view\")\n",
    "\n",
    "plt.subplot(132)\n",
    "plt.imshow(phase_contrast_data_np[:, sliceSel, :])\n",
    "plt.title(\"Sinogram view\")\n",
    "\n",
    "plt.subplot(133)\n",
    "plt.imshow(phase_contrast_data_np[:, :, sliceSel])\n",
    "plt.title(\"Sagittal view\")\n",
    "plt.show()"
   ]
  },
  {
   "cell_type": "code",
   "execution_count": null,
   "metadata": {},
   "outputs": [],
   "source": [
    "print(\"Perform Reconstruction using FBP\")\n",
    "\n",
    "from httomolibgpu.recon.algorithm import FBP\n",
    "\n",
    "angles = np.linspace(0.0 * np.pi / 180.0, 180.0 * np.pi / 180.0, data.shape[0])\n",
    "\n",
    "reconFBP = FBP(phase_contrast_data, angles=angles, center=cor)\n",
    "\n",
    "reconFBP_np = reconFBP.get()\n",
    "\n",
    "sliceSel = 64\n",
    "plt.figure()\n",
    "plt.subplot(131)\n",
    "plt.imshow(reconFBP_np[sliceSel, :, :])\n",
    "plt.title(\"Recon coronal view\")\n",
    "\n",
    "plt.subplot(132)\n",
    "plt.imshow(reconFBP_np[:, sliceSel, :])\n",
    "plt.title(\"Axial view\")\n",
    "\n",
    "plt.subplot(133)\n",
    "plt.imshow(reconFBP_np[:, :, sliceSel])\n",
    "plt.title(\"Sagittal view\")\n",
    "plt.show()"
   ]
  },
  {
   "cell_type": "code",
   "execution_count": null,
   "metadata": {},
   "outputs": [],
   "source": [
    "print(\"Perform Reconstruction using Fourier (LPRec)\")\n",
    "\n",
    "from httomolibgpu.recon.algorithm import LPRec\n",
    "\n",
    "angles = np.linspace(0.0 * np.pi / 180.0, 180.0 * np.pi / 180.0, data.shape[0])\n",
    "\n",
    "reconLPRec = LPRec(phase_contrast_data, angles=angles, center=cor)\n",
    "\n",
    "reconLPRec_np = reconLPRec.get()\n",
    "\n",
    "sliceSel = 64\n",
    "plt.figure()\n",
    "plt.subplot(131)\n",
    "plt.imshow(reconLPRec_np[sliceSel, :, :])\n",
    "plt.title(\"Recon coronal view\")\n",
    "\n",
    "plt.subplot(132)\n",
    "plt.imshow(reconLPRec_np[:, sliceSel, :])\n",
    "plt.title(\"Axial view\")\n",
    "\n",
    "plt.subplot(133)\n",
    "plt.imshow(reconLPRec_np[:, :, sliceSel])\n",
    "plt.title(\"Sagittal view\")\n",
    "plt.show()"
   ]
  }
 ],
 "metadata": {
  "kernelspec": {
   "display_name": "Python 3 (ipykernel)",
   "language": "python",
   "name": "python3"
  },
  "language_info": {
   "codemirror_mode": {
    "name": "ipython",
    "version": 3
   },
   "file_extension": ".py",
   "mimetype": "text/x-python",
   "name": "python",
   "nbconvert_exporter": "python",
   "pygments_lexer": "ipython3",
   "version": "3.10.13"
  }
 },
 "nbformat": 4,
 "nbformat_minor": 4
}
