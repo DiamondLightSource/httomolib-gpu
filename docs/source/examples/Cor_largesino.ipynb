{
 "cells": [
  {
   "cell_type": "markdown",
   "id": "6d3c78cb-9bed-4509-b41d-ce7880da8b20",
   "metadata": {},
   "source": [
    "### Example 4 (real data)"
   ]
  },
  {
   "cell_type": "markdown",
   "id": "2e330fdd-2130-4f85-b5c7-7a45c460eaa5",
   "metadata": {},
   "source": [
    "#### This example shows how to use methods from the HTTomolibgpy library to do the following:\n",
    "* calculate the centre of rotation using the Vo Centering method for large real data\n",
    "* remove stripes using remove all stripes method\n",
    "* reconstruct using the FBP algorithm"
   ]
  },
  {
   "cell_type": "code",
   "execution_count": null,
   "id": "2e24c0a6-2501-4e3b-b27c-713dd4f8bf3c",
   "metadata": {},
   "outputs": [],
   "source": [
    "import os\n",
    "import numpy as np\n",
    "import cupy as cp\n",
    "import scipy\n",
    "import httomolibgpu\n",
    "import matplotlib.pyplot as plt\n",
    "\n",
    "# Load the sinogram data\n",
    "path_lib = os.path.dirname(httomolibgpu.__file__)\n",
    "in_file = os.path.abspath(\n",
    "    os.path.join(path_lib, \"..\", \"tests/test_data/\", \"3600proj_sino.npz\")\n",
    ")\n",
    "l_infile = np.load(in_file)\n",
    "sinogram = l_infile[\"sinogram\"]\n",
    "angles = l_infile[\"angles\"]\n",
    "sinogram = cp.asarray(sinogram)\n",
    "\n",
    "print(\"The shape of the sinogram is {}\".format(cp.shape(sinogram)))"
   ]
  },
  {
   "cell_type": "code",
   "execution_count": null,
   "id": "f34e3db3-a4f6-49f2-b673-2fe83760c343",
   "metadata": {},
   "outputs": [],
   "source": [
    "plt.figure()\n",
    "plt.imshow(sinogram.get())\n",
    "plt.title(\"Sinogram view\")\n",
    "plt.show()"
   ]
  },
  {
   "cell_type": "code",
   "execution_count": null,
   "id": "1b4ac4ef-5276-4373-9291-2238accd6c5d",
   "metadata": {},
   "outputs": [],
   "source": [
    "from httomolibgpu.recon.rotation import find_center_vo\n",
    "\n",
    "print(\"Finding the Center of Rotation for the reconstruction\")\n",
    "cor = find_center_vo(sinogram)\n",
    "print(\"The found Center of Rotation is {}\".format(cor))"
   ]
  },
  {
   "cell_type": "code",
   "execution_count": null,
   "id": "9d150dc1-0fab-4048-b3f6-3cc788c7179f",
   "metadata": {},
   "outputs": [],
   "source": [
    "from httomolibgpu.prep.stripe import remove_all_stripe\n",
    "\n",
    "print(\"Remove stripes using remove_all_stripe\")\n",
    "\n",
    "sino3d = cp.ascontiguousarray(\n",
    "    cp.ones((sinogram.shape[0], 3, sinogram.shape[1])), dtype=cp.float32\n",
    ")\n",
    "sino3d[:, 1, :] = sinogram\n",
    "\n",
    "sino3d = remove_all_stripe(sino3d)\n",
    "\n",
    "plt.figure()\n",
    "plt.imshow(sino3d[:, 1, :].get())\n",
    "plt.title(\"Sinogram after stripes removal\")\n",
    "plt.show()"
   ]
  },
  {
   "cell_type": "code",
   "execution_count": null,
   "id": "275e446c-f9ae-4e6a-9620-62ad145a8370",
   "metadata": {},
   "outputs": [],
   "source": [
    "print(\"Perform Reconstruction using FBP\")\n",
    "from httomolibgpu.recon.algorithm import FBP\n",
    "\n",
    "reconFBP = FBP(sino3d, angles=angles, center=cor)\n",
    "reconFBP_np = reconFBP.get()\n",
    "\n",
    "plt.figure()\n",
    "plt.imshow(reconFBP_np[500:2000, 1, 500:2000], vmin=0, vmax=0.01)\n",
    "plt.title(\"Reconstruction with FBP\")\n",
    "plt.show()"
   ]
  }
 ],
 "metadata": {
  "kernelspec": {
   "display_name": "Python 3 (ipykernel)",
   "language": "python",
   "name": "python3"
  },
  "language_info": {
   "codemirror_mode": {
    "name": "ipython",
    "version": 3
   },
   "file_extension": ".py",
   "mimetype": "text/x-python",
   "name": "python",
   "nbconvert_exporter": "python",
   "pygments_lexer": "ipython3",
   "version": "3.10.13"
  }
 },
 "nbformat": 4,
 "nbformat_minor": 5
}
