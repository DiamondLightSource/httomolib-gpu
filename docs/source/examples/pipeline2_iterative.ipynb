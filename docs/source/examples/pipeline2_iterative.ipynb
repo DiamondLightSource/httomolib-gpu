{
 "cells": [
  {
   "cell_type": "markdown",
   "metadata": {},
   "source": [
    "### Example 2 (Iterative Rec)"
   ]
  },
  {
   "cell_type": "markdown",
   "metadata": {},
   "source": [
    "#### This example shows how to use methods from the HTTomolibgpu library to do the following:\n",
    "\n",
    "* normalise the data \n",
    "* calculate the centre of rotation using phase-cross correlation method\n",
    "* reconstruct using the iterative algorithm"
   ]
  },
  {
   "cell_type": "code",
   "execution_count": null,
   "metadata": {},
   "outputs": [],
   "source": [
    "import os\n",
    "import numpy as np\n",
    "import cupy as cp\n",
    "import httomolibgpu\n",
    "import matplotlib.pyplot as plt\n",
    "from httomolibgpu.prep.normalize import normalize\n",
    "\n",
    "# Load the projection data\n",
    "path_lib = os.path.dirname(httomolibgpu.__file__)\n",
    "in_file = os.path.abspath(\n",
    "    os.path.join(path_lib, \"..\", \"tests/test_data/\", \"tomo_standard.npz\")\n",
    ")\n",
    "datafile = np.load(in_file)\n",
    "host_data = datafile[\"data\"]\n",
    "host_flats = datafile[\"flats\"]\n",
    "host_darks = datafile[\"darks\"]\n",
    "\n",
    "print(\n",
    "    \"The shape of the data is {} as (projections, detector Y, detector X)\".format(\n",
    "        np.shape(host_data)\n",
    "    )\n",
    ")\n",
    "\n",
    "print(\"Normalising the data\")\n",
    "data = cp.asarray(host_data)\n",
    "flats = cp.asarray(host_flats)\n",
    "darks = cp.asarray(host_darks)\n",
    "data_normalised = normalize(data, flats, darks, cutoff=10, minus_log=True)\n",
    "\n",
    "sliceSel = 64\n",
    "data_normalised_np = data_normalised.get()\n",
    "\n",
    "plt.figure()\n",
    "plt.subplot(131)\n",
    "plt.imshow(data_normalised_np[sliceSel, :, :])\n",
    "plt.title(\"Projection view\")\n",
    "\n",
    "plt.subplot(132)\n",
    "plt.imshow(data_normalised_np[:, sliceSel, :])\n",
    "plt.title(\"Sinogram view\")\n",
    "\n",
    "plt.subplot(133)\n",
    "plt.imshow(data_normalised_np[:, :, sliceSel])\n",
    "plt.title(\"Sagittal view\")\n",
    "plt.show()"
   ]
  },
  {
   "cell_type": "code",
   "execution_count": null,
   "metadata": {},
   "outputs": [],
   "source": [
    "from httomolibgpu.recon.rotation import find_center_pc\n",
    "\n",
    "print(\"Finding the Center of Rotation for the reconstruction\")\n",
    "cor = find_center_pc(proj1=data_normalised[0, :, :], proj2=data_normalised[179, :, :])\n",
    "print(\"The found Center of Rotation is {}\".format(cor))"
   ]
  },
  {
   "cell_type": "code",
   "execution_count": null,
   "metadata": {},
   "outputs": [],
   "source": [
    "print(\"Perform Reconstruction using CGLS\")\n",
    "\n",
    "from httomolibgpu.recon.algorithm import CGLS\n",
    "\n",
    "angles = np.linspace(0.0 * np.pi / 180.0, 180.0 * np.pi / 180.0, data.shape[0])\n",
    "\n",
    "reconCGLS = CGLS(data_normalised, angles=angles, center=cor, iterations=20)\n",
    "\n",
    "reconCGLS_np = reconCGLS.get()\n",
    "\n",
    "sliceSel = 64\n",
    "plt.figure()\n",
    "plt.subplot(131)\n",
    "plt.imshow(reconCGLS_np[sliceSel, :, :])\n",
    "plt.title(\"Recon coronal view\")\n",
    "\n",
    "plt.subplot(132)\n",
    "plt.imshow(reconCGLS_np[:, sliceSel, :])\n",
    "plt.title(\"Axial view\")\n",
    "\n",
    "plt.subplot(133)\n",
    "plt.imshow(reconCGLS_np[:, :, sliceSel])\n",
    "plt.title(\"Sagittal view\")\n",
    "plt.show()"
   ]
  }
 ],
 "metadata": {
  "kernelspec": {
   "display_name": "Python 3 (ipykernel)",
   "language": "python",
   "name": "python3"
  },
  "language_info": {
   "codemirror_mode": {
    "name": "ipython",
    "version": 3
   },
   "file_extension": ".py",
   "mimetype": "text/x-python",
   "name": "python",
   "nbconvert_exporter": "python",
   "pygments_lexer": "ipython3",
   "version": "3.10.13"
  }
 },
 "nbformat": 4,
 "nbformat_minor": 4
}
