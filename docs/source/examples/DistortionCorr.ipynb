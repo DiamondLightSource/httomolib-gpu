{
 "cells": [
  {
   "cell_type": "markdown",
   "metadata": {},
   "source": [
    "### Example 3 (Distortion corr)"
   ]
  },
  {
   "cell_type": "code",
   "execution_count": null,
   "metadata": {},
   "outputs": [],
   "source": [
    "import os\n",
    "import numpy as np\n",
    "import cupy as cp\n",
    "import httomolibgpu\n",
    "import matplotlib.pyplot as plt\n",
    "from httomolibgpu.prep.alignment import distortion_correction_proj_discorpy\n",
    "\n",
    "# Load the projection data\n",
    "path_lib = os.path.dirname(httomolibgpu.__file__)\n",
    "in_file = os.path.abspath(\n",
    "    os.path.join(\n",
    "        path_lib, \"..\", \"tests/test_data/\", \"distortion-correction/dot_pattern_03.tif\"\n",
    "    )\n",
    ")\n",
    "im_host = imread(in_file)\n",
    "im = cp.asarray(im_host)\n",
    "\n",
    "# Define the `preview` to not crop out any of the image\n",
    "PREVIEW = {\"starts\": [0, 0], \"stops\": [im.shape[0], im.shape[1]], \"steps\": [1, 1]}\n",
    "\n",
    "# Point to the file containing the distortion coefficients (assumed to be\n",
    "# calculated in advance of the main processing pipeline)\n",
    "distortion_coeffs_file_path = os.path.abspath(\n",
    "    os.path.join(\n",
    "        path_lib,\n",
    "        \"..\",\n",
    "        \"tests/test_data/\",\n",
    "        \"distortion-correction/distortion-coeffs.txt\",\n",
    "    )\n",
    ")\n",
    "\n",
    "# Apply distortion correction\n",
    "corrected_images = distortion_correction_proj_discorpy(\n",
    "    im, distortion_coeffs_file_path, PREVIEW\n",
    ")\n",
    "corrected_images = cp.squeeze(corrected_images)\n",
    "\n",
    "sliceSel = 64\n",
    "corrected_images_np = corrected_images.get()\n",
    "\n",
    "plt.figure()\n",
    "plt.imshow(im_host)\n",
    "plt.title(\"Uncorrected image\")\n",
    "plt.show()\n",
    "\n",
    "plt.figure()\n",
    "plt.imshow(corrected_images_np)\n",
    "plt.title(\"Corrected image\")\n",
    "plt.show()"
   ]
  }
 ],
 "metadata": {
  "kernelspec": {
   "display_name": "Python 3 (ipykernel)",
   "language": "python",
   "name": "python3"
  },
  "language_info": {
   "codemirror_mode": {
    "name": "ipython",
    "version": 3
   },
   "file_extension": ".py",
   "mimetype": "text/x-python",
   "name": "python",
   "nbconvert_exporter": "python",
   "pygments_lexer": "ipython3",
   "version": "3.10.13"
  }
 },
 "nbformat": 4,
 "nbformat_minor": 4
}
