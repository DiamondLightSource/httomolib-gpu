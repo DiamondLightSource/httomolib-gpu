{
 "cells": [
  {
   "cell_type": "code",
   "execution_count": 1,
   "metadata": {},
   "outputs": [
    {
     "name": "stdout",
     "output_type": "stream",
     "text": [
      "____! BM3D module is required to use for dynamic flat fields calculation !____\n",
      "____! Wavelet package pywpt is missing, please install for wavelet regularisation !____\n"
     ]
    }
   ],
   "source": [
    "from pathlib import Path\n",
    "\n",
    "import cupy as cp\n",
    "import numpy as np\n",
    "from httomolibgpu.prep.normalize import normalize"
   ]
  }
 ],
 "metadata": {
  "kernelspec": {
   "display_name": "httomo",
   "language": "python",
   "name": "python3"
  },
  "language_info": {
   "codemirror_mode": {
    "name": "ipython",
    "version": 3
   },
   "file_extension": ".py",
   "mimetype": "text/x-python",
   "name": "python",
   "nbconvert_exporter": "python",
   "pygments_lexer": "ipython3",
   "version": "3.10.13"
  }
 },
 "nbformat": 4,
 "nbformat_minor": 2
}
